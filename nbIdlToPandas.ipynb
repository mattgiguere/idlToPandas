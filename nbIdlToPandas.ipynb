{
 "metadata": {
  "name": "",
  "signature": "sha256:c7bae9a34c36ee56b051df845c179d2bba6bd58b53ac64a601652266db454d0d"
 },
 "nbformat": 3,
 "nbformat_minor": 0,
 "worksheets": [
  {
   "cells": [
    {
     "cell_type": "heading",
     "level": 1,
     "metadata": {},
     "source": [
      "Idl To Pandas Notebook"
     ]
    },
    {
     "cell_type": "markdown",
     "metadata": {},
     "source": [
      "A notebook describing how to read in an IDL save object and write it as a Pandas DataFrame"
     ]
    },
    {
     "cell_type": "code",
     "collapsed": false,
     "input": [
      "try:\n",
      "    import pandas as pd\n",
      "except ImportError:\n",
      "    print('You need pandas installed')\n",
      "    sys.exit(1)\n",
      "\n",
      "try:\n",
      "    from scipy.io.idl import readsav\n",
      "except ImportError:\n",
      "    print('You need scipy installed')\n",
      "    sys.exit(1)\n",
      "import subprocess\n"
     ],
     "language": "python",
     "metadata": {},
     "outputs": [],
     "prompt_number": 22
    },
    {
     "cell_type": "code",
     "collapsed": false,
     "input": [
      "cmd = 'echo $AeroFSdir'\n",
      "#read in the AeroFSdir string and\n",
      "#chop off the newline character at the end\n",
      "aerodir = subprocess.check_output(cmd, shell=True)\n",
      "aerodir = aerodir[0:len(aerodir)-1]\n",
      "vstdir = aerodir+'data/CHIRPS/rvs/'\n",
      "vstfile = vstdir+'vst10700.dat'\n",
      "struct = readsav(vstdir+'vst10700.dat')"
     ],
     "language": "python",
     "metadata": {},
     "outputs": [],
     "prompt_number": 23
    },
    {
     "cell_type": "code",
     "collapsed": false,
     "input": [
      "struct.keys()"
     ],
     "language": "python",
     "metadata": {},
     "outputs": [
      {
       "metadata": {},
       "output_type": "pyout",
       "prompt_number": 24,
       "text": [
        "['cf3']"
       ]
      }
     ],
     "prompt_number": 24
    },
    {
     "cell_type": "code",
     "collapsed": false,
     "input": [
      "idlVars = struct.keys()"
     ],
     "language": "python",
     "metadata": {},
     "outputs": [],
     "prompt_number": 5
    },
    {
     "cell_type": "code",
     "collapsed": false,
     "input": [
      "type(struct)\n",
      "print(idlVars[0])\n",
      "type(idlVars)\n",
      "varOfInt = idlVars[0]"
     ],
     "language": "python",
     "metadata": {},
     "outputs": [
      {
       "output_type": "stream",
       "stream": "stdout",
       "text": [
        "cf3\n"
       ]
      }
     ],
     "prompt_number": 6
    },
    {
     "cell_type": "code",
     "collapsed": false,
     "input": [
      "print struct.cf3[0]\n",
      "print len(struct.cf3[0])"
     ],
     "language": "python",
     "metadata": {},
     "outputs": [
      {
       "output_type": "stream",
       "stream": "stdout",
       "text": [
        "('achi120612.1118', '?', 24283.421875, 8.504567631462123e-06, 16091.924664, 50, 1.2999999523162842, 13362, 1.9726994037628174, -1.408203125, 26831.94921875, 1.3956782817840576, 1.1006598472595215, 691, array([ 0.,  0.,  0.,  0.,  0.,  0.,  0.,  0.,  0.,  0.,  0.,  0.,  0.,\n",
        "        0.,  0.,  0.,  0.,  0.,  0.,  0.], dtype=float32), array([ 0.,  0.,  0.,  0.,  0.,  0.,  0.,  0.,  0.,  0.,  0.,  0.,  0.,\n",
        "        0.,  0.,  0.,  0.,  0.,  0.,  0.], dtype=float32), 0.0, 0.0, '?', 0.0, array([ 0.        , -4.5       , -3.20000005, -2.5       , -1.79999995,\n",
        "       -1.20000005, -0.80000001, -0.40000001,  0.40000001,  0.80000001,\n",
        "        1.20000005,  1.79999995,  2.5       ,  3.20000005,  4.5       ], dtype=float32), array([ 0.64999998,  1.39999998,  1.29999995,  1.10000002,  0.89999998,\n",
        "        0.80000001,  0.5       ,  0.40000001,  0.40000001,  0.5       ,\n",
        "        0.80000001,  0.89999998,  1.10000002,  1.29999995,  1.39999998], dtype=float32))\n",
        "22\n"
       ]
      }
     ],
     "prompt_number": 7
    },
    {
     "cell_type": "code",
     "collapsed": false,
     "input": [
      "struct.keys()\n",
      "cst = struct.cf3\n",
      "print len(struct.keys())"
     ],
     "language": "python",
     "metadata": {},
     "outputs": [
      {
       "output_type": "stream",
       "stream": "stdout",
       "text": [
        "1\n"
       ]
      }
     ],
     "prompt_number": 8
    },
    {
     "cell_type": "code",
     "collapsed": false,
     "input": [
      "tags = []\n",
      "for tag in cst.dtype.descr:\n",
      "    print tag[0][0]\n",
      "    tags.append(tag[0][0])"
     ],
     "language": "python",
     "metadata": {},
     "outputs": [
      {
       "output_type": "stream",
       "stream": "stdout",
       "text": [
        "obnm\n",
        "iodnm\n",
        "bc\n",
        "z\n",
        "jd\n",
        "dewar\n",
        "gain\n",
        "cts\n",
        "mnvel\n",
        "mdvel\n",
        "med_all\n",
        "errvel\n",
        "mdchi\n",
        "nchunk\n",
        "mdpar\n",
        "mnpar\n",
        "sp1\n",
        "sp2\n",
        "spst\n",
        "phase\n",
        "psfpix\n",
        "psfsig\n"
       ]
      }
     ],
     "prompt_number": 10
    },
    {
     "cell_type": "code",
     "collapsed": false,
     "input": [
      "import numpy as np"
     ],
     "language": "python",
     "metadata": {},
     "outputs": [],
     "prompt_number": 11
    },
    {
     "cell_type": "code",
     "collapsed": false,
     "input": [
      "len(struct.cf3['obnm'])\n",
      "cf = np.ndarray([len(tags), len(struct.cf3['obnm'])])\n",
      "cf = struct.cf3\n",
      "cf['obnm']"
     ],
     "language": "python",
     "metadata": {},
     "outputs": [
      {
       "metadata": {},
       "output_type": "pyout",
       "prompt_number": 12,
       "text": [
        "array(['achi120612.1118', 'achi120612.1119', 'achi120612.1120', ...,\n",
        "       'achi140903.1151', 'achi140903.1152', 'achi140903.1153'], dtype=object)"
       ]
      }
     ],
     "prompt_number": 12
    },
    {
     "cell_type": "code",
     "collapsed": false,
     "input": [
      "pdcf = pd.DataFrame(data=struct.cf3, columns=tags)"
     ],
     "language": "python",
     "metadata": {},
     "outputs": [],
     "prompt_number": 13
    },
    {
     "cell_type": "code",
     "collapsed": false,
     "input": [
      "pdcf"
     ],
     "language": "python",
     "metadata": {},
     "outputs": [
      {
       "html": [
        "<div style=\"max-height:1000px;max-width:1500px;overflow:auto;\">\n",
        "<table border=\"1\" class=\"dataframe\">\n",
        "  <thead>\n",
        "    <tr style=\"text-align: right;\">\n",
        "      <th></th>\n",
        "      <th>obnm</th>\n",
        "      <th>iodnm</th>\n",
        "      <th>bc</th>\n",
        "      <th>z</th>\n",
        "      <th>jd</th>\n",
        "      <th>dewar</th>\n",
        "      <th>gain</th>\n",
        "      <th>cts</th>\n",
        "      <th>mnvel</th>\n",
        "      <th>mdvel</th>\n",
        "      <th>...</th>\n",
        "      <th>mdchi</th>\n",
        "      <th>nchunk</th>\n",
        "      <th>mdpar</th>\n",
        "      <th>mnpar</th>\n",
        "      <th>sp1</th>\n",
        "      <th>sp2</th>\n",
        "      <th>spst</th>\n",
        "      <th>phase</th>\n",
        "      <th>psfpix</th>\n",
        "      <th>psfsig</th>\n",
        "    </tr>\n",
        "  </thead>\n",
        "  <tbody>\n",
        "  </tbody>\n",
        "</table>\n",
        "<p>0 rows \u00d7 22 columns</p>\n",
        "</div>"
       ],
       "metadata": {},
       "output_type": "pyout",
       "prompt_number": 14,
       "text": [
        "Empty DataFrame\n",
        "Columns: [obnm, iodnm, bc, z, jd, dewar, gain, cts, mnvel, mdvel, med_all, errvel, mdchi, nchunk, mdpar, mnpar, sp1, sp2, spst, phase, psfpix, psfsig]\n",
        "Index: []\n",
        "\n",
        "[0 rows x 22 columns]"
       ]
      }
     ],
     "prompt_number": 14
    },
    {
     "cell_type": "code",
     "collapsed": false,
     "input": [
      "struct.cf3['obnm']"
     ],
     "language": "python",
     "metadata": {},
     "outputs": [
      {
       "metadata": {},
       "output_type": "pyout",
       "prompt_number": 15,
       "text": [
        "array(['achi120612.1118', 'achi120612.1119', 'achi120612.1120', ...,\n",
        "       'achi140903.1151', 'achi140903.1152', 'achi140903.1153'], dtype=object)"
       ]
      }
     ],
     "prompt_number": 15
    },
    {
     "cell_type": "code",
     "collapsed": false,
     "input": [
      "type(struct.cf3)"
     ],
     "language": "python",
     "metadata": {},
     "outputs": [
      {
       "metadata": {},
       "output_type": "pyout",
       "prompt_number": 16,
       "text": [
        "numpy.core.records.recarray"
       ]
      }
     ],
     "prompt_number": 16
    },
    {
     "cell_type": "code",
     "collapsed": false,
     "input": [
      "pdcf.columns"
     ],
     "language": "python",
     "metadata": {},
     "outputs": [
      {
       "metadata": {},
       "output_type": "pyout",
       "prompt_number": 17,
       "text": [
        "Index([u'obnm', u'iodnm', u'bc', u'z', u'jd', u'dewar', u'gain', u'cts', u'mnvel', u'mdvel', u'med_all', u'errvel', u'mdchi', u'nchunk', u'mdpar', u'mnpar', u'sp1', u'sp2', u'spst', u'phase', u'psfpix', u'psfsig'], dtype='object')"
       ]
      }
     ],
     "prompt_number": 17
    },
    {
     "cell_type": "code",
     "collapsed": false,
     "input": [
      "pdcf.obnm"
     ],
     "language": "python",
     "metadata": {},
     "outputs": [
      {
       "metadata": {},
       "output_type": "pyout",
       "prompt_number": 18,
       "text": [
        "Series([], name: obnm, dtype: object)"
       ]
      }
     ],
     "prompt_number": 18
    },
    {
     "cell_type": "heading",
     "level": 3,
     "metadata": {},
     "source": [
      "Making the DataFrame One Column at a Time"
     ]
    },
    {
     "cell_type": "markdown",
     "metadata": {},
     "source": [
      "After a little exploration, pandas has a built in method called `from_records` that reads in record arrays (`recarray` is the data type returned by the `scipy.io.idl` readsav routine)."
     ]
    },
    {
     "cell_type": "code",
     "collapsed": false,
     "input": [
      "fileName = vstdir+'vst10700.dat'"
     ],
     "language": "python",
     "metadata": {},
     "outputs": [],
     "prompt_number": 25
    },
    {
     "cell_type": "code",
     "collapsed": false,
     "input": [
      "idlSavedVars = readsav(fileName)"
     ],
     "language": "python",
     "metadata": {},
     "outputs": [],
     "prompt_number": 26
    },
    {
     "cell_type": "code",
     "collapsed": false,
     "input": [
      "def valIsNumber(instring):\n",
      "    try:\n",
      "        float(instring)\n",
      "        return True\n",
      "    except:\n",
      "        return False"
     ],
     "language": "python",
     "metadata": {},
     "outputs": [],
     "prompt_number": 29
    },
    {
     "cell_type": "code",
     "collapsed": false,
     "input": [
      "keyValue = 0\n",
      "#check if the keyValue passed in is actually an index\n",
      "#rather than the keyValue name:\n",
      "if valIsNumber(keyValue):\n",
      "    keys = idlSavedVars.keys()\n",
      "    keyValue = keys[keyValue]"
     ],
     "language": "python",
     "metadata": {},
     "outputs": [],
     "prompt_number": 30
    },
    {
     "cell_type": "code",
     "collapsed": false,
     "input": [
      "struct = idlSavedVars[keyValue]"
     ],
     "language": "python",
     "metadata": {},
     "outputs": [],
     "prompt_number": 31
    },
    {
     "cell_type": "code",
     "collapsed": false,
     "input": [
      "tags = []\n",
      "for tag in struct.dtype.descr:\n",
      "    tags.append(tag[0][0])"
     ],
     "language": "python",
     "metadata": {},
     "outputs": [],
     "prompt_number": 32
    },
    {
     "cell_type": "code",
     "collapsed": false,
     "input": [
      "pdf = pd.DataFrame.from_records(struct, columns=tags)"
     ],
     "language": "python",
     "metadata": {},
     "outputs": [],
     "prompt_number": 61
    },
    {
     "cell_type": "heading",
     "level": 3,
     "metadata": {},
     "source": [
      "Big-endian Little-endian Errors"
     ]
    },
    {
     "cell_type": "markdown",
     "metadata": {},
     "source": [
      "There were occasional errors when working with the pandas dataframe that resulted from the above code. Namely, the error message \n",
      "\n",
      "``ValueError: Big-endian buffer not supported on little-endian compiler``\n",
      "\n",
      "would pop up. Big-endian and little-endian are the byte orders for numbers. Some operating systems store numbers using one method, and other operating systems reverse the order. After a considerable amount of time attempting to look this up, I finally stumbled upon this useful page [http://pandas.pydata.org/pandas-docs/stable/gotchas.html#byte-ordering-issues](http://pandas.pydata.org/pandas-docs/stable/gotchas.html#byte-ordering-issues) in the pandas documentation (see bottom of page under `Byte-Ordering Issues`). This next section goes over debugging the IdlToPandas module to swap the byte order when importing an IDL structure so that this error message doesn't crop up when slicing the resulting pandas dataFrame."
     ]
    },
    {
     "cell_type": "code",
     "collapsed": false,
     "input": [
      "fileName = vstdir+'vst10700.dat'\n",
      "idlSavedVars = readsav(fileName)\n",
      "keyValue = 0\n",
      "#check if the keyValue passed in is actually an index\n",
      "#rather than the keyValue name:\n",
      "if valIsNumber(keyValue):\n",
      "    keys = idlSavedVars.keys()\n",
      "    keyValue = keys[keyValue]\n",
      "\n",
      "struct = idlSavedVars[keyValue]\n",
      "\n",
      "tags = []\n",
      "for tag in struct.dtype.descr:\n",
      "    tags.append(tag[0][0])"
     ],
     "language": "python",
     "metadata": {},
     "outputs": [],
     "prompt_number": 240
    },
    {
     "cell_type": "code",
     "collapsed": false,
     "input": [
      "struct"
     ],
     "language": "python",
     "metadata": {},
     "outputs": [
      {
       "metadata": {},
       "output_type": "pyout",
       "prompt_number": 241,
       "text": [
        "rec.array([ ('achi120612.1118', '?', 24283.421875, 8.504567631462123e-06, 16091.924664, 50, 1.2999999523162842, 13362, 1.9726994037628174, -1.408203125, 26831.94921875, 1.3956782817840576, 1.1006598472595215, 691, array([ 0.,  0.,  0.,  0.,  0.,  0.,  0.,  0.,  0.,  0.,  0.,  0.,  0.,\n",
        "        0.,  0.,  0.,  0.,  0.,  0.,  0.], dtype=float32), array([ 0.,  0.,  0.,  0.,  0.,  0.,  0.,  0.,  0.,  0.,  0.,  0.,  0.,\n",
        "        0.,  0.,  0.,  0.,  0.,  0.,  0.], dtype=float32), 0.0, 0.0, '?', 0.0, array([ 0.        , -4.5       , -3.20000005, -2.5       , -1.79999995,\n",
        "       -1.20000005, -0.80000001, -0.40000001,  0.40000001,  0.80000001,\n",
        "        1.20000005,  1.79999995,  2.5       ,  3.20000005,  4.5       ], dtype=float32), array([ 0.64999998,  1.39999998,  1.29999995,  1.10000002,  0.89999998,\n",
        "        0.80000001,  0.5       ,  0.40000001,  0.40000001,  0.5       ,\n",
        "        0.80000001,  0.89999998,  1.10000002,  1.29999995,  1.39999998], dtype=float32)),\n",
        "       ('achi120612.1119', '?', 24271.435546875, 8.559487469028682e-06, 16091.931898, 50, 1.2999999523162842, 10471, 4.119420528411865, 2.427734375, 26831.94921875, 1.3800840377807617, 1.1162279844284058, 691, array([ 0.,  0.,  0.,  0.,  0.,  0.,  0.,  0.,  0.,  0.,  0.,  0.,  0.,\n",
        "        0.,  0.,  0.,  0.,  0.,  0.,  0.], dtype=float32), array([ 0.,  0.,  0.,  0.,  0.,  0.,  0.,  0.,  0.,  0.,  0.,  0.,  0.,\n",
        "        0.,  0.,  0.,  0.,  0.,  0.,  0.], dtype=float32), 0.0, 0.0, '?', 0.0, array([ 0.        , -4.5       , -3.20000005, -2.5       , -1.79999995,\n",
        "       -1.20000005, -0.80000001, -0.40000001,  0.40000001,  0.80000001,\n",
        "        1.20000005,  1.79999995,  2.5       ,  3.20000005,  4.5       ], dtype=float32), array([ 0.64999998,  1.39999998,  1.29999995,  1.10000002,  0.89999998,\n",
        "        0.80000001,  0.5       ,  0.40000001,  0.40000001,  0.5       ,\n",
        "        0.80000001,  0.89999998,  1.10000002,  1.29999995,  1.39999998], dtype=float32)),\n",
        "       ('achi120612.1120', '?', 24259.0625, 8.572597835154738e-06, 16091.939062, 50, 1.2999999523162842, 10950, -1.0834583044052124, -2.158203125, 26831.94921875, 1.3692772388458252, 1.120441198348999, 691, array([ 0.,  0.,  0.,  0.,  0.,  0.,  0.,  0.,  0.,  0.,  0.,  0.,  0.,\n",
        "        0.,  0.,  0.,  0.,  0.,  0.,  0.], dtype=float32), array([ 0.,  0.,  0.,  0.,  0.,  0.,  0.,  0.,  0.,  0.,  0.,  0.,  0.,\n",
        "        0.,  0.,  0.,  0.,  0.,  0.,  0.], dtype=float32), 0.0, 0.0, '?', 0.0, array([ 0.        , -4.5       , -3.20000005, -2.5       , -1.79999995,\n",
        "       -1.20000005, -0.80000001, -0.40000001,  0.40000001,  0.80000001,\n",
        "        1.20000005,  1.79999995,  2.5       ,  3.20000005,  4.5       ], dtype=float32), array([ 0.64999998,  1.39999998,  1.29999995,  1.10000002,  0.89999998,\n",
        "        0.80000001,  0.5       ,  0.40000001,  0.40000001,  0.5       ,\n",
        "        0.80000001,  0.89999998,  1.10000002,  1.29999995,  1.39999998], dtype=float32)),\n",
        "       ...,\n",
        "       ('achi140903.1151', '?', 15799.8525390625, 3.679906512843445e-05, 16904.725891, 51, 1.2999999523162842, 43217, -3.143497943878174, -4.701171875, 26831.94921875, 1.1259965896606445, 1.1015722751617432, 690, array([ 0.,  0.,  0.,  0.,  0.,  0.,  0.,  0.,  0.,  0.,  0.,  0.,  0.,\n",
        "        0.,  0.,  0.,  0.,  0.,  0.,  0.], dtype=float32), array([ 0.,  0.,  0.,  0.,  0.,  0.,  0.,  0.,  0.,  0.,  0.,  0.,  0.,\n",
        "        0.,  0.,  0.,  0.,  0.,  0.,  0.], dtype=float32), 0.0, 0.0, '?', 0.0, array([ 0.        , -4.5       , -3.20000005, -2.5       , -1.79999995,\n",
        "       -1.20000005, -0.80000001, -0.40000001,  0.40000001,  0.80000001,\n",
        "        1.20000005,  1.79999995,  2.5       ,  3.20000005,  4.5       ], dtype=float32), array([ 0.64999998,  1.39999998,  1.29999995,  1.10000002,  0.89999998,\n",
        "        0.80000001,  0.5       ,  0.40000001,  0.40000001,  0.5       ,\n",
        "        0.80000001,  0.89999998,  1.10000002,  1.29999995,  1.39999998], dtype=float32)),\n",
        "       ('achi140903.1152', '?', 15790.033203125, 3.68238179362379e-05, 16904.729907, 51, 1.2999999523162842, 42944, -7.550908088684082, -6.599609375, 26831.94921875, 1.0972611904144287, 1.1214066743850708, 690, array([ 0.,  0.,  0.,  0.,  0.,  0.,  0.,  0.,  0.,  0.,  0.,  0.,  0.,\n",
        "        0.,  0.,  0.,  0.,  0.,  0.,  0.], dtype=float32), array([ 0.,  0.,  0.,  0.,  0.,  0.,  0.,  0.,  0.,  0.,  0.,  0.,  0.,\n",
        "        0.,  0.,  0.,  0.,  0.,  0.,  0.], dtype=float32), 0.0, 0.0, '?', 0.0, array([ 0.        , -4.5       , -3.20000005, -2.5       , -1.79999995,\n",
        "       -1.20000005, -0.80000001, -0.40000001,  0.40000001,  0.80000001,\n",
        "        1.20000005,  1.79999995,  2.5       ,  3.20000005,  4.5       ], dtype=float32), array([ 0.64999998,  1.39999998,  1.29999995,  1.10000002,  0.89999998,\n",
        "        0.80000001,  0.5       ,  0.40000001,  0.40000001,  0.5       ,\n",
        "        0.80000001,  0.89999998,  1.10000002,  1.29999995,  1.39999998], dtype=float32)),\n",
        "       ('achi140903.1153', '?', 15779.3642578125, 3.685784395202063e-05, 16904.734213, 51, 1.2999999523162842, 42986, -3.0194246768951416, -1.79296875, 26831.94921875, 1.1211820840835571, 1.1276111602783203, 689, array([ 0.,  0.,  0.,  0.,  0.,  0.,  0.,  0.,  0.,  0.,  0.,  0.,  0.,\n",
        "        0.,  0.,  0.,  0.,  0.,  0.,  0.], dtype=float32), array([ 0.,  0.,  0.,  0.,  0.,  0.,  0.,  0.,  0.,  0.,  0.,  0.,  0.,\n",
        "        0.,  0.,  0.,  0.,  0.,  0.,  0.], dtype=float32), 0.0, 0.0, '?', 0.0, array([ 0.        , -4.5       , -3.20000005, -2.5       , -1.79999995,\n",
        "       -1.20000005, -0.80000001, -0.40000001,  0.40000001,  0.80000001,\n",
        "        1.20000005,  1.79999995,  2.5       ,  3.20000005,  4.5       ], dtype=float32), array([ 0.64999998,  1.39999998,  1.29999995,  1.10000002,  0.89999998,\n",
        "        0.80000001,  0.5       ,  0.40000001,  0.40000001,  0.5       ,\n",
        "        0.80000001,  0.89999998,  1.10000002,  1.29999995,  1.39999998], dtype=float32))], \n",
        "      dtype=[(('obnm', 'OBNM'), 'O'), (('iodnm', 'IODNM'), 'O'), (('bc', 'BC'), '>f4'), (('z', 'Z'), '>f4'), (('jd', 'JD'), '>f8'), (('dewar', 'DEWAR'), '>i2'), (('gain', 'GAIN'), '>f4'), (('cts', 'CTS'), '>i4'), (('mnvel', 'MNVEL'), '>f4'), (('mdvel', 'MDVEL'), '>f4'), (('med_all', 'MED_ALL'), '>f4'), (('errvel', 'ERRVEL'), '>f4'), (('mdchi', 'MDCHI'), '>f4'), (('nchunk', 'NCHUNK'), '>i2'), (('mdpar', 'MDPAR'), 'O'), (('mnpar', 'MNPAR'), 'O'), (('sp1', 'SP1'), '>f4'), (('sp2', 'SP2'), '>f4'), (('spst', 'SPST'), 'O'), (('phase', 'PHASE'), '>f4'), (('psfpix', 'PSFPIX'), 'O'), (('psfsig', 'PSFSIG'), 'O')])"
       ]
      }
     ],
     "prompt_number": 241
    },
    {
     "cell_type": "code",
     "collapsed": false,
     "input": [
      "print(struct['bc'].dtype)"
     ],
     "language": "python",
     "metadata": {},
     "outputs": [
      {
       "output_type": "stream",
       "stream": "stdout",
       "text": [
        ">f4\n"
       ]
      }
     ],
     "prompt_number": 242
    },
    {
     "cell_type": "code",
     "collapsed": false,
     "input": [
      "print(tags)"
     ],
     "language": "python",
     "metadata": {},
     "outputs": [
      {
       "output_type": "stream",
       "stream": "stdout",
       "text": [
        "['obnm', 'iodnm', 'bc', 'z', 'jd', 'dewar', 'gain', 'cts', 'mnvel', 'mdvel', 'med_all', 'errvel', 'mdchi', 'nchunk', 'mdpar', 'mnpar', 'sp1', 'sp2', 'spst', 'phase', 'psfpix', 'psfsig']\n"
       ]
      }
     ],
     "prompt_number": 243
    },
    {
     "cell_type": "code",
     "collapsed": false,
     "input": [
      "for tag in tags:\n",
      "    print(type(struct[tag]))\n",
      "    "
     ],
     "language": "python",
     "metadata": {},
     "outputs": [
      {
       "output_type": "stream",
       "stream": "stdout",
       "text": [
        "<type 'numpy.ndarray'>\n",
        "<type 'numpy.ndarray'>\n",
        "<class 'numpy.core.records.recarray'>\n",
        "<class 'numpy.core.records.recarray'>\n",
        "<class 'numpy.core.records.recarray'>\n",
        "<class 'numpy.core.records.recarray'>\n",
        "<class 'numpy.core.records.recarray'>\n",
        "<class 'numpy.core.records.recarray'>\n",
        "<class 'numpy.core.records.recarray'>\n",
        "<class 'numpy.core.records.recarray'>\n",
        "<class 'numpy.core.records.recarray'>\n",
        "<class 'numpy.core.records.recarray'>\n",
        "<class 'numpy.core.records.recarray'>\n",
        "<class 'numpy.core.records.recarray'>\n",
        "<type 'numpy.ndarray'>\n",
        "<type 'numpy.ndarray'>\n",
        "<class 'numpy.core.records.recarray'>\n",
        "<class 'numpy.core.records.recarray'>\n",
        "<type 'numpy.ndarray'>\n",
        "<class 'numpy.core.records.recarray'>\n",
        "<type 'numpy.ndarray'>\n",
        "<type 'numpy.ndarray'>\n"
       ]
      }
     ],
     "prompt_number": 244
    },
    {
     "cell_type": "code",
     "collapsed": false,
     "input": [
      "type(struct)"
     ],
     "language": "python",
     "metadata": {},
     "outputs": [
      {
       "metadata": {},
       "output_type": "pyout",
       "prompt_number": 245,
       "text": [
        "numpy.core.records.recarray"
       ]
      }
     ],
     "prompt_number": 245
    },
    {
     "cell_type": "markdown",
     "metadata": {},
     "source": [
      "Attempting to byte-swap the first tag: `obnm`, which is a numpy.ndarray, results in an error."
     ]
    },
    {
     "cell_type": "code",
     "collapsed": false,
     "input": [
      "obnms = struct['obnm']\n",
      "type(obnms)"
     ],
     "language": "python",
     "metadata": {},
     "outputs": [
      {
       "metadata": {},
       "output_type": "pyout",
       "prompt_number": 246,
       "text": [
        "numpy.ndarray"
       ]
      }
     ],
     "prompt_number": 246
    },
    {
     "cell_type": "code",
     "collapsed": false,
     "input": [
      "obnmsnew = obnms.byteswap().newbyteorder()"
     ],
     "language": "python",
     "metadata": {},
     "outputs": [
      {
       "ename": "TypeError",
       "evalue": "Cannot change data-type for object array.",
       "output_type": "pyerr",
       "traceback": [
        "\u001b[0;31m---------------------------------------------------------------------------\u001b[0m\n\u001b[0;31mTypeError\u001b[0m                                 Traceback (most recent call last)",
        "\u001b[0;32m<ipython-input-247-6e968b69859f>\u001b[0m in \u001b[0;36m<module>\u001b[0;34m()\u001b[0m\n\u001b[0;32m----> 1\u001b[0;31m \u001b[0mobnmsnew\u001b[0m \u001b[0;34m=\u001b[0m \u001b[0mobnms\u001b[0m\u001b[0;34m.\u001b[0m\u001b[0mbyteswap\u001b[0m\u001b[0;34m(\u001b[0m\u001b[0;34m)\u001b[0m\u001b[0;34m.\u001b[0m\u001b[0mnewbyteorder\u001b[0m\u001b[0;34m(\u001b[0m\u001b[0;34m)\u001b[0m\u001b[0;34m\u001b[0m\u001b[0m\n\u001b[0m",
        "\u001b[0;31mTypeError\u001b[0m: Cannot change data-type for object array."
       ]
      }
     ],
     "prompt_number": 247
    },
    {
     "cell_type": "markdown",
     "metadata": {},
     "source": [
      "However, if a tag is a `recarray` it can be swapped."
     ]
    },
    {
     "cell_type": "code",
     "collapsed": false,
     "input": [
      "bcs = struct['bc']\n",
      "print(str(type(bcs)))\n",
      "print(str(type(bcs)) == \"<class 'numpy.core.records.recarray'>\")"
     ],
     "language": "python",
     "metadata": {},
     "outputs": [
      {
       "output_type": "stream",
       "stream": "stdout",
       "text": [
        "<class 'numpy.core.records.recarray'>\n",
        "True\n"
       ]
      }
     ],
     "prompt_number": 248
    },
    {
     "cell_type": "code",
     "collapsed": false,
     "input": [
      "bcsnew = bcs.newbyteorder('=')"
     ],
     "language": "python",
     "metadata": {},
     "outputs": [],
     "prompt_number": 249
    },
    {
     "cell_type": "code",
     "collapsed": false,
     "input": [
      "struct['bc'] = bcsnew\n",
      "print(struct['bc'].dtype)\n",
      "print(bcsnew.dtype)"
     ],
     "language": "python",
     "metadata": {},
     "outputs": [
      {
       "output_type": "stream",
       "stream": "stdout",
       "text": [
        ">f4\n",
        "float32\n"
       ]
      }
     ],
     "prompt_number": 250
    },
    {
     "cell_type": "code",
     "collapsed": false,
     "input": [
      "print(struct['dewar'].dtype)\n",
      "print(struct['dewar'].dtype.newbyteorder('='))"
     ],
     "language": "python",
     "metadata": {},
     "outputs": [
      {
       "output_type": "stream",
       "stream": "stdout",
       "text": [
        ">i2\n",
        "int16\n"
       ]
      }
     ],
     "prompt_number": 251
    },
    {
     "cell_type": "code",
     "collapsed": false,
     "input": [
      "print(struct['cts'].dtype)\n",
      "print(struct['cts'].dtype.newbyteorder('='))"
     ],
     "language": "python",
     "metadata": {},
     "outputs": [
      {
       "output_type": "stream",
       "stream": "stdout",
       "text": [
        ">i4\n",
        "int32\n"
       ]
      }
     ],
     "prompt_number": 252
    },
    {
     "cell_type": "markdown",
     "metadata": {},
     "source": [
      "And the dtype of some of the integer values are:"
     ]
    },
    {
     "cell_type": "code",
     "collapsed": false,
     "input": [
      "struct['bc']"
     ],
     "language": "python",
     "metadata": {},
     "outputs": [
      {
       "metadata": {},
       "output_type": "pyout",
       "prompt_number": 253,
       "text": [
        "rec.array([ -1.60739232e+15,  -2.28767512e+19,   2.28257336e-19, ...,\n",
        "         3.37686235e+25,   4.99985268e-18,   3.58648793e+32], dtype=float32)"
       ]
      }
     ],
     "prompt_number": 253
    },
    {
     "cell_type": "markdown",
     "metadata": {},
     "source": [
      "This is strange. Although `struct['bc'].dtype` still prints out as `>f4` two lines up, in the line directly above it prints out as `dtype=float32`. Another method worth trying is the `astype()` method describe here: [http://stackoverflow.com/questions/9949427/how-to-change-the-dtype-of-a-numpy-recarray](http://stackoverflow.com/questions/9949427/how-to-change-the-dtype-of-a-numpy-recarray)"
     ]
    },
    {
     "cell_type": "code",
     "collapsed": false,
     "input": [
      "dt = struct.dtype\n",
      "print(dt)"
     ],
     "language": "python",
     "metadata": {},
     "outputs": [
      {
       "output_type": "stream",
       "stream": "stdout",
       "text": [
        "[(('obnm', 'OBNM'), 'O'), (('iodnm', 'IODNM'), 'O'), (('bc', 'BC'), '>f4'), (('z', 'Z'), '>f4'), (('jd', 'JD'), '>f8'), (('dewar', 'DEWAR'), '>i2'), (('gain', 'GAIN'), '>f4'), (('cts', 'CTS'), '>i4'), (('mnvel', 'MNVEL'), '>f4'), (('mdvel', 'MDVEL'), '>f4'), (('med_all', 'MED_ALL'), '>f4'), (('errvel', 'ERRVEL'), '>f4'), (('mdchi', 'MDCHI'), '>f4'), (('nchunk', 'NCHUNK'), '>i2'), (('mdpar', 'MDPAR'), 'O'), (('mnpar', 'MNPAR'), 'O'), (('sp1', 'SP1'), '>f4'), (('sp2', 'SP2'), '>f4'), (('spst', 'SPST'), 'O'), (('phase', 'PHASE'), '>f4'), (('psfpix', 'PSFPIX'), 'O'), (('psfsig', 'PSFSIG'), 'O')]\n"
       ]
      }
     ],
     "prompt_number": 254
    },
    {
     "cell_type": "code",
     "collapsed": false,
     "input": [
      "dt = dt.descr\n",
      "print(dt)\n",
      "print(type(dt))"
     ],
     "language": "python",
     "metadata": {},
     "outputs": [
      {
       "output_type": "stream",
       "stream": "stdout",
       "text": [
        "[(('obnm', 'OBNM'), '|O8'), (('iodnm', 'IODNM'), '|O8'), (('bc', 'BC'), '>f4'), (('z', 'Z'), '>f4'), (('jd', 'JD'), '>f8'), (('dewar', 'DEWAR'), '>i2'), (('gain', 'GAIN'), '>f4'), (('cts', 'CTS'), '>i4'), (('mnvel', 'MNVEL'), '>f4'), (('mdvel', 'MDVEL'), '>f4'), (('med_all', 'MED_ALL'), '>f4'), (('errvel', 'ERRVEL'), '>f4'), (('mdchi', 'MDCHI'), '>f4'), (('nchunk', 'NCHUNK'), '>i2'), (('mdpar', 'MDPAR'), '|O8'), (('mnpar', 'MNPAR'), '|O8'), (('sp1', 'SP1'), '>f4'), (('sp2', 'SP2'), '>f4'), (('spst', 'SPST'), '|O8'), (('phase', 'PHASE'), '>f4'), (('psfpix', 'PSFPIX'), '|O8'), (('psfsig', 'PSFSIG'), '|O8')]\n",
        "<type 'list'>\n"
       ]
      }
     ],
     "prompt_number": 255
    },
    {
     "cell_type": "code",
     "collapsed": false,
     "input": [
      "print(len(dt))"
     ],
     "language": "python",
     "metadata": {},
     "outputs": [
      {
       "output_type": "stream",
       "stream": "stdout",
       "text": [
        "22\n"
       ]
      }
     ],
     "prompt_number": 256
    },
    {
     "cell_type": "code",
     "collapsed": false,
     "input": [
      "dt[2] = (dt[2][0], 'f4')"
     ],
     "language": "python",
     "metadata": {},
     "outputs": [],
     "prompt_number": 225
    },
    {
     "cell_type": "code",
     "collapsed": false,
     "input": [
      "for i in range(len(dt)):\n",
      "    print(dt[i][1])\n",
      "    if(dt[i][1][0] == '>' or dt[i][1][0] == '<'):\n",
      "        dt[i] = (dt[i][0], dt[i][1][1:])\n"
     ],
     "language": "python",
     "metadata": {},
     "outputs": [
      {
       "output_type": "stream",
       "stream": "stdout",
       "text": [
        "|O8\n",
        "|O8\n",
        ">f4\n",
        ">f4\n",
        ">f8\n",
        ">i2\n",
        ">f4\n",
        ">i4\n",
        ">f4\n",
        ">f4\n",
        ">f4\n",
        ">f4\n",
        ">f4\n",
        ">i2\n",
        "|O8\n",
        "|O8\n",
        ">f4\n",
        ">f4\n",
        "|O8\n",
        ">f4\n",
        "|O8\n",
        "|O8\n"
       ]
      }
     ],
     "prompt_number": 257
    },
    {
     "cell_type": "markdown",
     "metadata": {},
     "source": [
      "Here's a more complicated way of doing things that isn't necessary. I originally thought the above method didn't work, so I made this. But it turns out that the above method works and I missed that the angle bracket had changed from a greater than to a less than symbol."
     ]
    },
    {
     "cell_type": "markdown",
     "metadata": {},
     "source": [
      "```python\n",
      "for i in range(len(dt)):\n",
      "    print(dt[i][1])\n",
      "    if(dt[i][1][0] == '>' or dt[i][1][0] == '<'):\n",
      "        if dt[i][1][1] == 'f':\n",
      "            dt[i] = (dt[i][0], 'float32')\n",
      "        elif dt[i][1][1] == 'd':\n",
      "            dt[i] = (dt[i][0], 'float64')\n",
      "        elif dt[i][1][1:3] == 'i2':\n",
      "            dt[i] = (dt[i][0], 'int16')\n",
      "        elif dt[i][1][1:3] == 'i4':\n",
      "            dt[i] = (dt[i][0], 'int32')\n",
      "```"
     ]
    },
    {
     "cell_type": "code",
     "collapsed": false,
     "input": [
      "dt"
     ],
     "language": "python",
     "metadata": {},
     "outputs": [
      {
       "metadata": {},
       "output_type": "pyout",
       "prompt_number": 258,
       "text": [
        "[(('obnm', 'OBNM'), '|O8'),\n",
        " (('iodnm', 'IODNM'), '|O8'),\n",
        " (('bc', 'BC'), 'f4'),\n",
        " (('z', 'Z'), 'f4'),\n",
        " (('jd', 'JD'), 'f8'),\n",
        " (('dewar', 'DEWAR'), 'i2'),\n",
        " (('gain', 'GAIN'), 'f4'),\n",
        " (('cts', 'CTS'), 'i4'),\n",
        " (('mnvel', 'MNVEL'), 'f4'),\n",
        " (('mdvel', 'MDVEL'), 'f4'),\n",
        " (('med_all', 'MED_ALL'), 'f4'),\n",
        " (('errvel', 'ERRVEL'), 'f4'),\n",
        " (('mdchi', 'MDCHI'), 'f4'),\n",
        " (('nchunk', 'NCHUNK'), 'i2'),\n",
        " (('mdpar', 'MDPAR'), '|O8'),\n",
        " (('mnpar', 'MNPAR'), '|O8'),\n",
        " (('sp1', 'SP1'), 'f4'),\n",
        " (('sp2', 'SP2'), 'f4'),\n",
        " (('spst', 'SPST'), '|O8'),\n",
        " (('phase', 'PHASE'), 'f4'),\n",
        " (('psfpix', 'PSFPIX'), '|O8'),\n",
        " (('psfsig', 'PSFSIG'), '|O8')]"
       ]
      }
     ],
     "prompt_number": 258
    },
    {
     "cell_type": "code",
     "collapsed": false,
     "input": [
      "dt = np.dtype(dt)"
     ],
     "language": "python",
     "metadata": {},
     "outputs": [],
     "prompt_number": 192
    },
    {
     "cell_type": "code",
     "collapsed": false,
     "input": [
      "dt"
     ],
     "language": "python",
     "metadata": {},
     "outputs": [
      {
       "metadata": {},
       "output_type": "pyout",
       "prompt_number": 260,
       "text": [
        "[(('obnm', 'OBNM'), '|O8'),\n",
        " (('iodnm', 'IODNM'), '|O8'),\n",
        " (('bc', 'BC'), 'f4'),\n",
        " (('z', 'Z'), 'f4'),\n",
        " (('jd', 'JD'), 'f8'),\n",
        " (('dewar', 'DEWAR'), 'i2'),\n",
        " (('gain', 'GAIN'), 'f4'),\n",
        " (('cts', 'CTS'), 'i4'),\n",
        " (('mnvel', 'MNVEL'), 'f4'),\n",
        " (('mdvel', 'MDVEL'), 'f4'),\n",
        " (('med_all', 'MED_ALL'), 'f4'),\n",
        " (('errvel', 'ERRVEL'), 'f4'),\n",
        " (('mdchi', 'MDCHI'), 'f4'),\n",
        " (('nchunk', 'NCHUNK'), 'i2'),\n",
        " (('mdpar', 'MDPAR'), '|O8'),\n",
        " (('mnpar', 'MNPAR'), '|O8'),\n",
        " (('sp1', 'SP1'), 'f4'),\n",
        " (('sp2', 'SP2'), 'f4'),\n",
        " (('spst', 'SPST'), '|O8'),\n",
        " (('phase', 'PHASE'), 'f4'),\n",
        " (('psfpix', 'PSFPIX'), '|O8'),\n",
        " (('psfsig', 'PSFSIG'), '|O8')]"
       ]
      }
     ],
     "prompt_number": 260
    },
    {
     "cell_type": "code",
     "collapsed": false,
     "input": [
      "struct = struct.astype(dt)"
     ],
     "language": "python",
     "metadata": {},
     "outputs": [],
     "prompt_number": 259
    },
    {
     "cell_type": "code",
     "collapsed": false,
     "input": [
      "print(struct.dtype.descr)"
     ],
     "language": "python",
     "metadata": {},
     "outputs": [
      {
       "output_type": "stream",
       "stream": "stdout",
       "text": [
        "[(('obnm', 'OBNM'), '|O8'), (('iodnm', 'IODNM'), '|O8'), (('bc', 'BC'), '<f4'), (('z', 'Z'), '<f4'), (('jd', 'JD'), '<f8'), (('dewar', 'DEWAR'), '<i2'), (('gain', 'GAIN'), '<f4'), (('cts', 'CTS'), '<i4'), (('mnvel', 'MNVEL'), '<f4'), (('mdvel', 'MDVEL'), '<f4'), (('med_all', 'MED_ALL'), '<f4'), (('errvel', 'ERRVEL'), '<f4'), (('mdchi', 'MDCHI'), '<f4'), (('nchunk', 'NCHUNK'), '<i2'), (('mdpar', 'MDPAR'), '|O8'), (('mnpar', 'MNPAR'), '|O8'), (('sp1', 'SP1'), '<f4'), (('sp2', 'SP2'), '<f4'), (('spst', 'SPST'), '|O8'), (('phase', 'PHASE'), '<f4'), (('psfpix', 'PSFPIX'), '|O8'), (('psfsig', 'PSFSIG'), '|O8')]\n"
       ]
      }
     ],
     "prompt_number": 261
    },
    {
     "cell_type": "code",
     "collapsed": false,
     "input": [
      "bcsnew"
     ],
     "language": "python",
     "metadata": {},
     "outputs": [
      {
       "metadata": {},
       "output_type": "pyout",
       "prompt_number": 122,
       "text": [
        "rec.array([ 24283.421875  ,  24271.43554688,  24259.0625    , ...,\n",
        "        15799.85253906,  15790.03320312,  15779.36425781], dtype=float32)"
       ]
      }
     ],
     "prompt_number": 122
    },
    {
     "cell_type": "markdown",
     "metadata": {},
     "source": [
      "This leads me to hope that simply swapping the recarray fields *within* `struct` will solve the problem. "
     ]
    },
    {
     "cell_type": "code",
     "collapsed": false,
     "input": [
      "for tag in tags:\n",
      "    if str(type(struct[tag])) == \"<class 'numpy.core.records.recarray'>\":\n",
      "        struct[tag] = struct[tag].byteswap().newbyteorder('=')"
     ],
     "language": "python",
     "metadata": {},
     "outputs": [],
     "prompt_number": 115
    },
    {
     "cell_type": "code",
     "collapsed": false,
     "input": [
      "print(struct['bc'].dtype)"
     ],
     "language": "python",
     "metadata": {},
     "outputs": [
      {
       "output_type": "stream",
       "stream": "stdout",
       "text": [
        ">f4\n"
       ]
      }
     ],
     "prompt_number": 116
    },
    {
     "cell_type": "code",
     "collapsed": false,
     "input": [
      "print(struct.dtype)"
     ],
     "language": "python",
     "metadata": {},
     "outputs": [
      {
       "output_type": "stream",
       "stream": "stdout",
       "text": [
        "[(('obnm', 'OBNM'), 'O'), (('iodnm', 'IODNM'), 'O'), (('bc', 'BC'), '>f4'), (('z', 'Z'), '>f4'), (('jd', 'JD'), '>f8'), (('dewar', 'DEWAR'), '>i2'), (('gain', 'GAIN'), '>f4'), (('cts', 'CTS'), '>i4'), (('mnvel', 'MNVEL'), '>f4'), (('mdvel', 'MDVEL'), '>f4'), (('med_all', 'MED_ALL'), '>f4'), (('errvel', 'ERRVEL'), '>f4'), (('mdchi', 'MDCHI'), '>f4'), (('nchunk', 'NCHUNK'), '>i2'), (('mdpar', 'MDPAR'), 'O'), (('mnpar', 'MNPAR'), 'O'), (('sp1', 'SP1'), '>f4'), (('sp2', 'SP2'), '>f4'), (('spst', 'SPST'), 'O'), (('phase', 'PHASE'), '>f4'), (('psfpix', 'PSFPIX'), 'O'), (('psfsig', 'PSFSIG'), 'O')]\n"
       ]
      }
     ],
     "prompt_number": 112
    },
    {
     "cell_type": "code",
     "collapsed": false,
     "input": [
      "struct"
     ],
     "language": "python",
     "metadata": {},
     "outputs": [
      {
       "metadata": {},
       "output_type": "pyout",
       "prompt_number": 79,
       "text": [
        "rec.array([ ('achi120612.1118', '?', 24283.421875, 8.504567631462123e-06, 16091.924664, 50, 1.2999999523162842, 13362, 1.9726994037628174, -1.408203125, 26831.94921875, 1.3956782817840576, 1.1006598472595215, 691, array([ 0.,  0.,  0.,  0.,  0.,  0.,  0.,  0.,  0.,  0.,  0.,  0.,  0.,\n",
        "        0.,  0.,  0.,  0.,  0.,  0.,  0.], dtype=float32), array([ 0.,  0.,  0.,  0.,  0.,  0.,  0.,  0.,  0.,  0.,  0.,  0.,  0.,\n",
        "        0.,  0.,  0.,  0.,  0.,  0.,  0.], dtype=float32), 0.0, 0.0, '?', 0.0, array([ 0.        , -4.5       , -3.20000005, -2.5       , -1.79999995,\n",
        "       -1.20000005, -0.80000001, -0.40000001,  0.40000001,  0.80000001,\n",
        "        1.20000005,  1.79999995,  2.5       ,  3.20000005,  4.5       ], dtype=float32), array([ 0.64999998,  1.39999998,  1.29999995,  1.10000002,  0.89999998,\n",
        "        0.80000001,  0.5       ,  0.40000001,  0.40000001,  0.5       ,\n",
        "        0.80000001,  0.89999998,  1.10000002,  1.29999995,  1.39999998], dtype=float32)),\n",
        "       ('achi120612.1119', '?', 24271.435546875, 8.559487469028682e-06, 16091.931898, 50, 1.2999999523162842, 10471, 4.119420528411865, 2.427734375, 26831.94921875, 1.3800840377807617, 1.1162279844284058, 691, array([ 0.,  0.,  0.,  0.,  0.,  0.,  0.,  0.,  0.,  0.,  0.,  0.,  0.,\n",
        "        0.,  0.,  0.,  0.,  0.,  0.,  0.], dtype=float32), array([ 0.,  0.,  0.,  0.,  0.,  0.,  0.,  0.,  0.,  0.,  0.,  0.,  0.,\n",
        "        0.,  0.,  0.,  0.,  0.,  0.,  0.], dtype=float32), 0.0, 0.0, '?', 0.0, array([ 0.        , -4.5       , -3.20000005, -2.5       , -1.79999995,\n",
        "       -1.20000005, -0.80000001, -0.40000001,  0.40000001,  0.80000001,\n",
        "        1.20000005,  1.79999995,  2.5       ,  3.20000005,  4.5       ], dtype=float32), array([ 0.64999998,  1.39999998,  1.29999995,  1.10000002,  0.89999998,\n",
        "        0.80000001,  0.5       ,  0.40000001,  0.40000001,  0.5       ,\n",
        "        0.80000001,  0.89999998,  1.10000002,  1.29999995,  1.39999998], dtype=float32)),\n",
        "       ('achi120612.1120', '?', 24259.0625, 8.572597835154738e-06, 16091.939062, 50, 1.2999999523162842, 10950, -1.0834583044052124, -2.158203125, 26831.94921875, 1.3692772388458252, 1.120441198348999, 691, array([ 0.,  0.,  0.,  0.,  0.,  0.,  0.,  0.,  0.,  0.,  0.,  0.,  0.,\n",
        "        0.,  0.,  0.,  0.,  0.,  0.,  0.], dtype=float32), array([ 0.,  0.,  0.,  0.,  0.,  0.,  0.,  0.,  0.,  0.,  0.,  0.,  0.,\n",
        "        0.,  0.,  0.,  0.,  0.,  0.,  0.], dtype=float32), 0.0, 0.0, '?', 0.0, array([ 0.        , -4.5       , -3.20000005, -2.5       , -1.79999995,\n",
        "       -1.20000005, -0.80000001, -0.40000001,  0.40000001,  0.80000001,\n",
        "        1.20000005,  1.79999995,  2.5       ,  3.20000005,  4.5       ], dtype=float32), array([ 0.64999998,  1.39999998,  1.29999995,  1.10000002,  0.89999998,\n",
        "        0.80000001,  0.5       ,  0.40000001,  0.40000001,  0.5       ,\n",
        "        0.80000001,  0.89999998,  1.10000002,  1.29999995,  1.39999998], dtype=float32)),\n",
        "       ...,\n",
        "       ('achi140903.1151', '?', 15799.8525390625, 3.679906512843445e-05, 16904.725891, 51, 1.2999999523162842, 43217, -3.143497943878174, -4.701171875, 26831.94921875, 1.1259965896606445, 1.1015722751617432, 690, array([ 0.,  0.,  0.,  0.,  0.,  0.,  0.,  0.,  0.,  0.,  0.,  0.,  0.,\n",
        "        0.,  0.,  0.,  0.,  0.,  0.,  0.], dtype=float32), array([ 0.,  0.,  0.,  0.,  0.,  0.,  0.,  0.,  0.,  0.,  0.,  0.,  0.,\n",
        "        0.,  0.,  0.,  0.,  0.,  0.,  0.], dtype=float32), 0.0, 0.0, '?', 0.0, array([ 0.        , -4.5       , -3.20000005, -2.5       , -1.79999995,\n",
        "       -1.20000005, -0.80000001, -0.40000001,  0.40000001,  0.80000001,\n",
        "        1.20000005,  1.79999995,  2.5       ,  3.20000005,  4.5       ], dtype=float32), array([ 0.64999998,  1.39999998,  1.29999995,  1.10000002,  0.89999998,\n",
        "        0.80000001,  0.5       ,  0.40000001,  0.40000001,  0.5       ,\n",
        "        0.80000001,  0.89999998,  1.10000002,  1.29999995,  1.39999998], dtype=float32)),\n",
        "       ('achi140903.1152', '?', 15790.033203125, 3.68238179362379e-05, 16904.729907, 51, 1.2999999523162842, 42944, -7.550908088684082, -6.599609375, 26831.94921875, 1.0972611904144287, 1.1214066743850708, 690, array([ 0.,  0.,  0.,  0.,  0.,  0.,  0.,  0.,  0.,  0.,  0.,  0.,  0.,\n",
        "        0.,  0.,  0.,  0.,  0.,  0.,  0.], dtype=float32), array([ 0.,  0.,  0.,  0.,  0.,  0.,  0.,  0.,  0.,  0.,  0.,  0.,  0.,\n",
        "        0.,  0.,  0.,  0.,  0.,  0.,  0.], dtype=float32), 0.0, 0.0, '?', 0.0, array([ 0.        , -4.5       , -3.20000005, -2.5       , -1.79999995,\n",
        "       -1.20000005, -0.80000001, -0.40000001,  0.40000001,  0.80000001,\n",
        "        1.20000005,  1.79999995,  2.5       ,  3.20000005,  4.5       ], dtype=float32), array([ 0.64999998,  1.39999998,  1.29999995,  1.10000002,  0.89999998,\n",
        "        0.80000001,  0.5       ,  0.40000001,  0.40000001,  0.5       ,\n",
        "        0.80000001,  0.89999998,  1.10000002,  1.29999995,  1.39999998], dtype=float32)),\n",
        "       ('achi140903.1153', '?', 15779.3642578125, 3.685784395202063e-05, 16904.734213, 51, 1.2999999523162842, 42986, -3.0194246768951416, -1.79296875, 26831.94921875, 1.1211820840835571, 1.1276111602783203, 689, array([ 0.,  0.,  0.,  0.,  0.,  0.,  0.,  0.,  0.,  0.,  0.,  0.,  0.,\n",
        "        0.,  0.,  0.,  0.,  0.,  0.,  0.], dtype=float32), array([ 0.,  0.,  0.,  0.,  0.,  0.,  0.,  0.,  0.,  0.,  0.,  0.,  0.,\n",
        "        0.,  0.,  0.,  0.,  0.,  0.,  0.], dtype=float32), 0.0, 0.0, '?', 0.0, array([ 0.        , -4.5       , -3.20000005, -2.5       , -1.79999995,\n",
        "       -1.20000005, -0.80000001, -0.40000001,  0.40000001,  0.80000001,\n",
        "        1.20000005,  1.79999995,  2.5       ,  3.20000005,  4.5       ], dtype=float32), array([ 0.64999998,  1.39999998,  1.29999995,  1.10000002,  0.89999998,\n",
        "        0.80000001,  0.5       ,  0.40000001,  0.40000001,  0.5       ,\n",
        "        0.80000001,  0.89999998,  1.10000002,  1.29999995,  1.39999998], dtype=float32))], \n",
        "      dtype=[(('obnm', 'OBNM'), 'O'), (('iodnm', 'IODNM'), 'O'), (('bc', 'BC'), '>f4'), (('z', 'Z'), '>f4'), (('jd', 'JD'), '>f8'), (('dewar', 'DEWAR'), '>i2'), (('gain', 'GAIN'), '>f4'), (('cts', 'CTS'), '>i4'), (('mnvel', 'MNVEL'), '>f4'), (('mdvel', 'MDVEL'), '>f4'), (('med_all', 'MED_ALL'), '>f4'), (('errvel', 'ERRVEL'), '>f4'), (('mdchi', 'MDCHI'), '>f4'), (('nchunk', 'NCHUNK'), '>i2'), (('mdpar', 'MDPAR'), 'O'), (('mnpar', 'MNPAR'), 'O'), (('sp1', 'SP1'), '>f4'), (('sp2', 'SP2'), '>f4'), (('spst', 'SPST'), 'O'), (('phase', 'PHASE'), '>f4'), (('psfpix', 'PSFPIX'), 'O'), (('psfsig', 'PSFSIG'), 'O')])"
       ]
      }
     ],
     "prompt_number": 79
    },
    {
     "cell_type": "code",
     "collapsed": false,
     "input": [
      "pdf = pd.DataFrame.from_records(struct, columns=tags)"
     ],
     "language": "python",
     "metadata": {},
     "outputs": [],
     "prompt_number": 80
    },
    {
     "cell_type": "code",
     "collapsed": false,
     "input": [
      "pdf"
     ],
     "language": "python",
     "metadata": {},
     "outputs": [
      {
       "metadata": {},
       "output_type": "pyout",
       "prompt_number": 81,
       "text": [
        "<repr(<pandas.core.frame.DataFrame at 0x10a4e3bd0>) failed: ValueError: Big-endian buffer not supported on little-endian compiler>"
       ]
      }
     ],
     "prompt_number": 81
    },
    {
     "cell_type": "heading",
     "level": 3,
     "metadata": {},
     "source": [
      "Adding observations to the Database"
     ]
    },
    {
     "cell_type": "markdown",
     "metadata": {},
     "source": [
      "I've created the routine `chironVelocity.py` that will add velocities to the database. I originally thought of adding this to the `chironObject.py` routine, but since all the velocities change every time a new observation is added, they will all need to be updated frequently. For this reason, I thought a new routine would better handle this. Below are the guts of `chironVelocity.py`, where I used this notebook for debugging."
     ]
    },
    {
     "cell_type": "code",
     "collapsed": false,
     "input": [
      "from __future__ import division, print_function\n",
      "import sys\n",
      "import argparse\n",
      "\n",
      "try:\n",
      "    from idlToPandas import *\n",
      "except:\n",
      "    print(\"You need to install idlToPandas\")\n",
      "    sys.exit(1)\n",
      "\n",
      "try:\n",
      "    import pymysql\n",
      "except:\n",
      "    print('You need pymysql installed')\n",
      "    sys.exit(1)\n"
     ],
     "language": "python",
     "metadata": {},
     "outputs": [],
     "prompt_number": 49
    },
    {
     "cell_type": "code",
     "collapsed": false,
     "input": [
      "def getAeroDir():\n",
      "    cmd = 'echo $AeroFSdir'\n",
      "    #read in the AeroFSdir string and\n",
      "    adir = subprocess.check_output(cmd, shell=True)\n",
      "    #chop off the newline character at the end\n",
      "    adir = adir[0:len(adir)-1]\n",
      "    return adir"
     ],
     "language": "python",
     "metadata": {},
     "outputs": [],
     "prompt_number": 54
    },
    {
     "cell_type": "code",
     "collapsed": false,
     "input": [
      "def connectChironDB():\n",
      "    \"\"\"connect to the database\"\"\"\n",
      "    adir = getAeroDir()\n",
      "    #retrieve credentials:\n",
      "    credsf = open(adir+'.credentials/SQL/csaye', 'r')\n",
      "    creds = credsf.read().split('\\n')\n",
      "    conn = pymysql.connect(host=creds[0],\n",
      "                           port=int(creds[1]),\n",
      "                           user=creds[2],\n",
      "                           passwd=creds[3],\n",
      "                           db=creds[4])\n",
      "    #cur = conn.cursor()\n",
      "    return conn"
     ],
     "language": "python",
     "metadata": {},
     "outputs": [],
     "prompt_number": 55
    },
    {
     "cell_type": "code",
     "collapsed": false,
     "input": [
      "def chironVelocity(fileName, path=''):\n",
      "    \"\"\"PURPOSE: To restore a CHIRON velocity structure and add the\n",
      "                contents to the database\"\"\"\n",
      "    pdf = idlToPandas(path+fileName)\n",
      "    return pdf\n"
     ],
     "language": "python",
     "metadata": {},
     "outputs": [],
     "prompt_number": 51
    },
    {
     "cell_type": "code",
     "collapsed": false,
     "input": [
      "adir = getAeroDir()\n",
      "rvdir = adir+'data/CHIRPS/rvs/'\n",
      "pdf = chironVelocity('vst10700.dat', path=rvdir)"
     ],
     "language": "python",
     "metadata": {},
     "outputs": [],
     "prompt_number": 56
    },
    {
     "cell_type": "code",
     "collapsed": false,
     "input": [
      "pdf.OBNM[0]"
     ],
     "language": "python",
     "metadata": {},
     "outputs": [
      {
       "metadata": {},
       "output_type": "pyout",
       "prompt_number": 59,
       "text": [
        "'achi120612.1118'"
       ]
      }
     ],
     "prompt_number": 59
    },
    {
     "cell_type": "code",
     "collapsed": false,
     "input": [
      "type(pdf.shape[0])"
     ],
     "language": "python",
     "metadata": {},
     "outputs": [
      {
       "metadata": {},
       "output_type": "pyout",
       "prompt_number": 64,
       "text": [
        "int"
       ]
      }
     ],
     "prompt_number": 64
    },
    {
     "cell_type": "code",
     "collapsed": false,
     "input": [
      "pdf.OBNM[0]"
     ],
     "language": "python",
     "metadata": {},
     "outputs": [
      {
       "metadata": {},
       "output_type": "pyout",
       "prompt_number": 65,
       "text": [
        "'achi120612.1118'"
       ]
      }
     ],
     "prompt_number": 65
    }
   ],
   "metadata": {}
  }
 ]
}