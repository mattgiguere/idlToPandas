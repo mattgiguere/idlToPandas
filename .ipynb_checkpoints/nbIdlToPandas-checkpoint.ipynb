{
 "metadata": {
  "name": "",
  "signature": "sha256:fd60049ab6206bf9f0e38fea531e93d7b24d5267f86e9fdd413f7b46d411145f"
 },
 "nbformat": 3,
 "nbformat_minor": 0,
 "worksheets": [
  {
   "cells": [
    {
     "cell_type": "heading",
     "level": 1,
     "metadata": {},
     "source": [
      "Idl To Pandas Notebook"
     ]
    },
    {
     "cell_type": "markdown",
     "metadata": {},
     "source": [
      "A notebook describing how to read in an IDL save object and write it as a Pandas DataFrame"
     ]
    },
    {
     "cell_type": "code",
     "collapsed": false,
     "input": [
      "try:\n",
      "    import pandas as pd\n",
      "except ImportError:\n",
      "    print('You need pandas installed')\n",
      "    sys.exit(1)\n",
      "\n",
      "try:\n",
      "    from scipy.io.idl import readsav\n",
      "except ImportError:\n",
      "    print('You need scipy installed')\n",
      "    sys.exit(1)\n",
      "import subprocess\n"
     ],
     "language": "python",
     "metadata": {},
     "outputs": [],
     "prompt_number": 2
    },
    {
     "cell_type": "code",
     "collapsed": false,
     "input": [
      "cmd = 'echo $AeroFSdir'\n",
      "#read in the AeroFSdir string and\n",
      "#chop off the newline character at the end\n",
      "aerodir = subprocess.check_output(cmd, shell=True)\n",
      "aerodir = aerodir[0:len(aerodir)-1]\n",
      "vstdir = aerodir+'data/CHIRPS/rvs/'\n",
      "vstfile = vstdir+'vst10700.dat'\n",
      "struct = readsav(vstdir+'vst10700.dat')"
     ],
     "language": "python",
     "metadata": {},
     "outputs": [],
     "prompt_number": 3
    },
    {
     "cell_type": "code",
     "collapsed": false,
     "input": [
      "print struct.keys()"
     ],
     "language": "python",
     "metadata": {},
     "outputs": [
      {
       "output_type": "stream",
       "stream": "stdout",
       "text": [
        "['cf3']\n"
       ]
      }
     ],
     "prompt_number": 4
    },
    {
     "cell_type": "code",
     "collapsed": false,
     "input": [
      "print struct.cf3[0]\n",
      "print len(struct.cf3[0])"
     ],
     "language": "python",
     "metadata": {},
     "outputs": [
      {
       "output_type": "stream",
       "stream": "stdout",
       "text": [
        "('achi120612.1118', '?', 24283.421875, 8.505398000124842e-06, 16091.924664, 50, 1.2999999523162842, 13301, 1.9240546226501465, -1.21875, 26832.259765625, 1.3917691707611084, 1.099436640739441, 691, array([ 0.,  0.,  0.,  0.,  0.,  0.,  0.,  0.,  0.,  0.,  0.,  0.,  0.,\n",
        "        0.,  0.,  0.,  0.,  0.,  0.,  0.], dtype=float32), array([ 0.,  0.,  0.,  0.,  0.,  0.,  0.,  0.,  0.,  0.,  0.,  0.,  0.,\n",
        "        0.,  0.,  0.,  0.,  0.,  0.,  0.], dtype=float32), 0.0, 0.0, '?', 0.0, array([ 0.        , -4.5       , -3.20000005, -2.5       , -1.79999995,\n",
        "       -1.20000005, -0.80000001, -0.40000001,  0.40000001,  0.80000001,\n",
        "        1.20000005,  1.79999995,  2.5       ,  3.20000005,  4.5       ], dtype=float32), array([ 0.64999998,  1.39999998,  1.29999995,  1.10000002,  0.89999998,\n",
        "        0.80000001,  0.5       ,  0.40000001,  0.40000001,  0.5       ,\n",
        "        0.80000001,  0.89999998,  1.10000002,  1.29999995,  1.39999998], dtype=float32))\n",
        "22\n"
       ]
      }
     ],
     "prompt_number": 5
    },
    {
     "cell_type": "code",
     "collapsed": false,
     "input": [
      "struct.keys()\n",
      "cst = struct.cf3\n",
      "print len(struct.keys())"
     ],
     "language": "python",
     "metadata": {},
     "outputs": [
      {
       "output_type": "stream",
       "stream": "stdout",
       "text": [
        "1\n"
       ]
      }
     ],
     "prompt_number": 6
    },
    {
     "cell_type": "code",
     "collapsed": false,
     "input": [
      "tags = []\n",
      "for tag in cst.dtype.descr:\n",
      "    print tag[0][0]\n",
      "    tags.append(tag[0][0])"
     ],
     "language": "python",
     "metadata": {},
     "outputs": [
      {
       "output_type": "stream",
       "stream": "stdout",
       "text": [
        "obnm\n",
        "iodnm\n",
        "bc\n",
        "z\n",
        "jd\n",
        "dewar\n",
        "gain\n",
        "cts\n",
        "mnvel\n",
        "mdvel\n",
        "med_all\n",
        "errvel\n",
        "mdchi\n",
        "nchunk\n",
        "mdpar\n",
        "mnpar\n",
        "sp1\n",
        "sp2\n",
        "spst\n",
        "phase\n",
        "psfpix\n",
        "psfsig\n"
       ]
      }
     ],
     "prompt_number": 7
    },
    {
     "cell_type": "code",
     "collapsed": false,
     "input": [],
     "language": "python",
     "metadata": {},
     "outputs": []
    }
   ],
   "metadata": {}
  }
 ]
}